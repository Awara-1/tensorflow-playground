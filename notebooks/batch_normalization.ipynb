{
 "cells": [
  {
   "cell_type": "markdown",
   "metadata": {},
   "source": [
    "## Further Reading"
   ]
  },
  {
   "cell_type": "markdown",
   "metadata": {},
   "source": [
    "##### Further information on batch normalization and how they work: https://towardsdatascience.com/batch-norm-explained-visually-how-it-works-and-why-neural-networks-need-it-b18919692739"
   ]
  },
  {
   "cell_type": "code",
   "execution_count": null,
   "metadata": {},
   "outputs": [],
   "source": [
    "import tensorflow as tf\n",
    "import numpy as np"
   ]
  },
  {
   "cell_type": "markdown",
   "metadata": {},
   "source": [
    "## Experimentation with tf.nn.batch_normalization"
   ]
  },
  {
   "cell_type": "markdown",
   "metadata": {},
   "source": [
    "##### Input tensor can be of any shape, for context - let's assume it's the output from a conv2d -> global_avg_pooling layer"
   ]
  },
  {
   "cell_type": "code",
   "execution_count": null,
   "metadata": {},
   "outputs": [],
   "source": [
    "x = np.random.randn(1, 6, 6, 2)\n",
    "x = tf.Variable(x, dtype=tf.float32)"
   ]
  },
  {
   "cell_type": "markdown",
   "metadata": {},
   "source": [
    "##### Get mean and variance from tensor"
   ]
  },
  {
   "cell_type": "code",
   "execution_count": null,
   "metadata": {},
   "outputs": [],
   "source": [
    "mean_x, std_x = tf.nn.moments(x, axes=2, keepdims=True)\n",
    "mean_x, std_x"
   ]
  },
  {
   "cell_type": "markdown",
   "metadata": {},
   "source": [
    "##### Initialize offset and scale from same shape as input tensor, these are trainable and would be adjusted by backpropagation of the model"
   ]
  },
  {
   "cell_type": "code",
   "execution_count": null,
   "metadata": {},
   "outputs": [],
   "source": [
    "offset = tf.Variable(tf.random.normal(x.shape, stddev=0.1),\n",
    "                    trainable=True,\n",
    "                    dtype=tf.float32\n",
    "                   )\n",
    "offset"
   ]
  },
  {
   "cell_type": "code",
   "execution_count": null,
   "metadata": {},
   "outputs": [],
   "source": [
    "scale = tf.Variable(tf.random.normal(x.shape, stddev=0.1),\n",
    "                   trainable=True,\n",
    "                   dtype=tf.float32\n",
    "                   )\n",
    "scale"
   ]
  },
  {
   "cell_type": "markdown",
   "metadata": {},
   "source": [
    "##### input the above parameters to tf batch normalization layer"
   ]
  },
  {
   "cell_type": "code",
   "execution_count": null,
   "metadata": {},
   "outputs": [],
   "source": [
    "batch_layer = tf.nn.batch_normalization(x=x, \n",
    "                                        mean=mean_x, \n",
    "                                        variance=std_x, \n",
    "                                        offset=offset, \n",
    "                                        scale=scale,\n",
    "                                        variance_epsilon=1e-12\n",
    "                                       )\n",
    "batch_layer"
   ]
  },
  {
   "cell_type": "markdown",
   "metadata": {},
   "source": [
    "## Build Custom Batch Normalizaion Layer"
   ]
  },
  {
   "cell_type": "markdown",
   "metadata": {},
   "source": [
    "### Implement class layer"
   ]
  },
  {
   "cell_type": "code",
   "execution_count": null,
   "metadata": {},
   "outputs": [],
   "source": [
    "class BatchNormalization(tf.Module):\n",
    "    \n",
    "    def __init__(self, \n",
    "                 name: str = None):\n",
    "        super(BatchNormalization, self).__init__(name)\n",
    "        \n",
    "        self.offset: Optional[tf.Tensor] = None\n",
    "        self.scale: Optional[tf.Tensor] = None\n",
    "            \n",
    "        self.is_built: bool = False\n",
    "            \n",
    "    \n",
    "    def __call__(self, x_in):\n",
    "        \n",
    "        if not self.is_built: # initialize the weights, NOTE: offset and scale are added to the batch normalization layer and are trained to be optimized by backprop\n",
    "                        \n",
    "            self.offset = tf.Variable(\n",
    "                tf.random.normal(x.shape, stddev=0.1),\n",
    "                trainable=True,\n",
    "                dtype=tf.float32,\n",
    "                name=\"offset_layer_weights\"\n",
    "            )\n",
    "            self.scale = tf.Variable(\n",
    "                tf.random.normal(x.shape, stddev=0.1),\n",
    "                trainable=True,\n",
    "                dtype=tf.float32,\n",
    "                name=\"scale_layer_weights\"    \n",
    "            )\n",
    "            \n",
    "            self.is_built = True\n",
    "            \n",
    "        mean_x, std_x = tf.nn.moments(x_in, axes=2, keepdims=True) # calculate mean and std of input tensor\n",
    "        \n",
    "        return tf.nn.batch_normalization(x=x_in, \n",
    "                                        mean=mean_x, \n",
    "                                        variance=std_x, \n",
    "                                        offset=self.offset, \n",
    "                                        scale=self.scale,\n",
    "                                        variance_epsilon=1e-12\n",
    "                                       )"
   ]
  },
  {
   "cell_type": "code",
   "execution_count": null,
   "metadata": {},
   "outputs": [],
   "source": [
    "batch_normalizatio_layer = BatchNormalization()"
   ]
  },
  {
   "cell_type": "code",
   "execution_count": null,
   "metadata": {},
   "outputs": [],
   "source": [
    "batch_normalizatio_layer(x_in=x)"
   ]
  }
 ],
 "metadata": {
  "kernelspec": {
   "display_name": "env-rr-denoising-tf2",
   "language": "python",
   "name": "env-rr-denoising-tf2"
  },
  "language_info": {
   "codemirror_mode": {
    "name": "ipython",
    "version": 3
   },
   "file_extension": ".py",
   "mimetype": "text/x-python",
   "name": "python",
   "nbconvert_exporter": "python",
   "pygments_lexer": "ipython3",
   "version": "3.7.8"
  }
 },
 "nbformat": 4,
 "nbformat_minor": 4
}

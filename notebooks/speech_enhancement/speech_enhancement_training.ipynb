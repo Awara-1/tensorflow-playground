{
 "cells": [
  {
   "cell_type": "markdown",
   "metadata": {},
   "source": [
    "## Description"
   ]
  },
  {
   "cell_type": "markdown",
   "metadata": {},
   "source": [
    "##### Implementation of \"Speech enhancement by LSTM-based noise suppression followed by CNN-based speech restoration\" paper - https://link.springer.com/article/10.1186/s13634-020-00707-1"
   ]
  },
  {
   "cell_type": "markdown",
   "metadata": {},
   "source": [
    "##### Implementation of training"
   ]
  },
  {
   "cell_type": "markdown",
   "metadata": {},
   "source": [
    "### Libraries"
   ]
  },
  {
   "cell_type": "code",
   "execution_count": null,
   "metadata": {},
   "outputs": [],
   "source": [
    "import tensorflow as tf\n",
    "import numpy as np\n",
    "import typing"
   ]
  },
  {
   "cell_type": "code",
   "execution_count": null,
   "metadata": {},
   "outputs": [],
   "source": [
    "from ipynb.fs.full.speech_enhancement_noise_suppression_module import NoiseSuppressor\n",
    "from ipynb.fs.full.speech_enhancement_speech_restoration_module import SpeechRestorationNetwork"
   ]
  },
  {
   "cell_type": "code",
   "execution_count": null,
   "metadata": {},
   "outputs": [],
   "source": [
    "tf.compat.v1.logging.set_verbosity(tf.compat.v1.logging.ERROR)"
   ]
  },
  {
   "cell_type": "markdown",
   "metadata": {},
   "source": [
    "### Training Functions"
   ]
  },
  {
   "cell_type": "code",
   "execution_count": null,
   "metadata": {},
   "outputs": [],
   "source": [
    "EPOCHS = 50"
   ]
  },
  {
   "cell_type": "code",
   "execution_count": null,
   "metadata": {},
   "outputs": [],
   "source": [
    "def loss_fun(y_true, y_pred):\n",
    "    \n",
    "    return tf.math.reduce_mean(tf.keras.metrics.mean_squared_error(y_true, y_pred))"
   ]
  },
  {
   "cell_type": "code",
   "execution_count": null,
   "metadata": {},
   "outputs": [],
   "source": [
    "def adam_optimizer(learning_rate):\n",
    "    return tf.keras.optimizers.Adam(\n",
    "    learning_rate=learning_rate,\n",
    "    beta_1=0.9,\n",
    "    beta_2=0.0002,\n",
    "    epsilon=1e-07,\n",
    "    amsgrad=False,\n",
    "    name='Adam'\n",
    ")"
   ]
  },
  {
   "cell_type": "code",
   "execution_count": null,
   "metadata": {},
   "outputs": [],
   "source": [
    "def train_step(model, optimizer, x_batch):\n",
    "    \"\"\"\n",
    "        Training step for each training dataset batch\n",
    "    \"\"\"\n",
    "    with tf.GradientTape() as tape:\n",
    "        y_pred = model(x_in=x_batch)\n",
    "        loss_value = loss_fun(y_true=x_batch, y_pred=y_pred)\n",
    "    \n",
    "    grads = tape.gradient(loss_value, model.trainable_variables)\n",
    "    optimizer.apply_gradients(zip(grads, model.trainable_variables))\n",
    "    return loss_value"
   ]
  },
  {
   "cell_type": "code",
   "execution_count": null,
   "metadata": {},
   "outputs": [],
   "source": [
    "def test_step(model, x_batch):\n",
    "    \"\"\"\n",
    "        Test step for each test dataset batch\n",
    "    \"\"\"\n",
    "    y_pred = model(x_in=x_batch)\n",
    "    return loss_fun(y_true=x_batch, y_pred=y_pred)"
   ]
  },
  {
   "cell_type": "code",
   "execution_count": null,
   "metadata": {},
   "outputs": [],
   "source": [
    "def test_seq_desc_order(seq):\n",
    "    return all(earlier >= later for earlier, later in zip(seq, seq[1:]))"
   ]
  },
  {
   "cell_type": "code",
   "execution_count": null,
   "metadata": {},
   "outputs": [],
   "source": [
    "def train_model(model, learning_rate: float, min_learning_rate: float, lr_factor: float, nr_epochs_for_lr_change: int):\n",
    "    mean_epoch_losses_test = []\n",
    "    for epoch in range(EPOCHS):\n",
    "        print(f\"working on epoch: {epoch}...\")\n",
    "        losses_train = []\n",
    "        for train_idx, x_batch_train in enumerate(train_data):\n",
    "            optimizer = adam_optimizer(learning_rate=learning_rate)\n",
    "            loss_train_value = train_step(model=model, optimizer=optimizer, x_batch=x_batch_train)\n",
    "            losses_train.append(loss_train_value.numpy())\n",
    "            print(f\"Training step is {train_idx}\")\n",
    "\n",
    "            if train_idx % 100 == 0:\n",
    "                print(f\"Loss at step {train_idx} is {loss_train_value.numpy():.2f}.\")\n",
    "\n",
    "        print(f\"Finished epoch training nr: {epoch}. Running test inference...\")\n",
    "\n",
    "        losses_test = []\n",
    "        for test_idx, x_batch_test in enumerate(test_data):\n",
    "            loss_test_value = test_step(model=model, x_batch=x_batch_test)\n",
    "            losses_test.append(loss_test_value.numpy())\n",
    "            print(f\"Test step is {test_idx}\")\n",
    "\n",
    "        print(f\"Test set loss: {np.mean(losses_test):.2f}.\")\n",
    "        mean_epoch_losses_test.append(np.mean(losses_test))\n",
    "        \n",
    "        if learning_rate <= min_learning_rate:\n",
    "            print(f\"learning rate has reach a value equal to or less than {min_learning_rate}, aborting training\")\n",
    "            break\n",
    "        if len(mean_epoch_losses_test) > nr_epochs_for_lr_change:\n",
    "            # get last three results\n",
    "            print(f\"last {nr_epochs_for_lr_change} mean epoch losses test results are: {mean_epoch_losses_test[-nr_epochs_for_lr_change:]}\")\n",
    "            if not test_seq_desc_order(seq=mean_epoch_losses_test[-nr_epochs_for_lr_change:]): # check if there has been no decrease for more than nr_epochs_for_lr_change epochs\n",
    "                learning_rate = learning_rate*lr_factor # reduce lr by factor\n",
    "                print(f\"updated learning rate is: {learning_rate}\")"
   ]
  },
  {
   "cell_type": "markdown",
   "metadata": {},
   "source": [
    "### Noise Suppressor Dummy Training"
   ]
  },
  {
   "cell_type": "code",
   "execution_count": null,
   "metadata": {},
   "outputs": [],
   "source": [
    "noise_suppressor = NoiseSuppressor(output_size=2)"
   ]
  },
  {
   "cell_type": "code",
   "execution_count": null,
   "metadata": {},
   "outputs": [],
   "source": [
    "NOISE_SUPPRESSOR_BATCH_SIZE = 25\n",
    "input_shape = (200, 1024, 2)\n",
    "train_size = int(input_shape[0]*0.80)\n",
    "data = tf.random.normal(input_shape)\n",
    "data = tf.constant(data, dtype=tf.float32)"
   ]
  },
  {
   "cell_type": "code",
   "execution_count": null,
   "metadata": {},
   "outputs": [],
   "source": [
    "train_size"
   ]
  },
  {
   "cell_type": "code",
   "execution_count": null,
   "metadata": {},
   "outputs": [],
   "source": [
    "train_data = tf.data.Dataset.from_tensor_slices(data[:train_size])\n",
    "train_data = train_data.batch(NOISE_SUPPRESSOR_BATCH_SIZE)\n",
    "test_data = tf.data.Dataset.from_tensor_slices(data[train_size:])\n",
    "test_data = test_data.batch(NOISE_SUPPRESSOR_BATCH_SIZE)"
   ]
  },
  {
   "cell_type": "code",
   "execution_count": null,
   "metadata": {},
   "outputs": [],
   "source": [
    "train_model(model=noise_suppressor, learning_rate=0.001, min_learning_rate=0.0001, lr_factor=0.5, nr_epochs_for_lr_change=4)"
   ]
  },
  {
   "cell_type": "markdown",
   "metadata": {},
   "source": [
    "### Speech Restoration Dummy Training"
   ]
  },
  {
   "cell_type": "code",
   "execution_count": null,
   "metadata": {},
   "outputs": [],
   "source": [
    "speech_restoration_network = SpeechRestorationNetwork(nr_conv_filters=88, conv_filter_size=24)"
   ]
  },
  {
   "cell_type": "code",
   "execution_count": null,
   "metadata": {},
   "outputs": [],
   "source": [
    "SPEECH_RESTORATION_BATCH_SIZE = 16\n",
    "input_shape = (200, 1024, 2)\n",
    "train_size = int(input_shape[0]*0.80)\n",
    "data = tf.random.normal(input_shape)\n",
    "data = tf.constant(data, dtype=tf.float32)"
   ]
  },
  {
   "cell_type": "code",
   "execution_count": null,
   "metadata": {},
   "outputs": [],
   "source": [
    "train_data = tf.data.Dataset.from_tensor_slices(data[:train_size])\n",
    "train_data = train_data.batch(SPEECH_RESTORATION_BATCH_SIZE)\n",
    "test_data = tf.data.Dataset.from_tensor_slices(data[train_size:])\n",
    "test_data = test_data.batch(SPEECH_RESTORATION_BATCH_SIZE)"
   ]
  },
  {
   "cell_type": "code",
   "execution_count": null,
   "metadata": {},
   "outputs": [],
   "source": [
    "train_model(model=speech_restoration_network, learning_rate=0.0001, min_learning_rate=0.00001, lr_factor=0.6, nr_epochs_for_lr_change=3)"
   ]
  }
 ],
 "metadata": {
  "kernelspec": {
   "display_name": "env-mlflow-examples",
   "language": "python",
   "name": "env-mlflow-examples"
  },
  "language_info": {
   "codemirror_mode": {
    "name": "ipython",
    "version": 3
   },
   "file_extension": ".py",
   "mimetype": "text/x-python",
   "name": "python",
   "nbconvert_exporter": "python",
   "pygments_lexer": "ipython3",
   "version": "3.9.1"
  }
 },
 "nbformat": 4,
 "nbformat_minor": 4
}

{
 "cells": [
  {
   "cell_type": "markdown",
   "metadata": {},
   "source": [
    "## Description"
   ]
  },
  {
   "cell_type": "markdown",
   "metadata": {},
   "source": [
    "##### Implementation of \"Speech enhancement by LSTM-based noise suppression followed by CNN-based speech restoration\" paper - https://link.springer.com/article/10.1186/s13634-020-00707-1"
   ]
  },
  {
   "cell_type": "markdown",
   "metadata": {},
   "source": [
    "##### Implementation of noise suppression module"
   ]
  },
  {
   "cell_type": "markdown",
   "metadata": {},
   "source": [
    "### Libraries"
   ]
  },
  {
   "cell_type": "code",
   "execution_count": null,
   "metadata": {},
   "outputs": [],
   "source": [
    "import tensorflow as tf\n",
    "import numpy as np\n",
    "import typing"
   ]
  },
  {
   "cell_type": "code",
   "execution_count": null,
   "metadata": {},
   "outputs": [],
   "source": [
    "from ipynb.fs.full.speech_enhancement_layers import Dense, LSTM"
   ]
  },
  {
   "cell_type": "code",
   "execution_count": null,
   "metadata": {},
   "outputs": [],
   "source": [
    "tf.compat.v1.logging.set_verbosity(tf.compat.v1.logging.ERROR)"
   ]
  },
  {
   "cell_type": "markdown",
   "metadata": {},
   "source": [
    "### Input"
   ]
  },
  {
   "cell_type": "markdown",
   "metadata": {},
   "source": [
    "##### Let's assume we have an input of [batch_size, sequence_length, nr_features]"
   ]
  },
  {
   "cell_type": "code",
   "execution_count": null,
   "metadata": {},
   "outputs": [],
   "source": [
    "input_shape = (1, 1024, 2)\n",
    "x = tf.random.normal(input_shape)\n",
    "x = tf.constant(x, dtype=tf.float32)"
   ]
  },
  {
   "cell_type": "code",
   "execution_count": null,
   "metadata": {},
   "outputs": [],
   "source": [
    "x"
   ]
  },
  {
   "cell_type": "markdown",
   "metadata": {},
   "source": [
    "### Noise Suppression Module"
   ]
  },
  {
   "cell_type": "markdown",
   "metadata": {},
   "source": [
    "##### The noise suppression module makes use of FF and LSTM layers"
   ]
  },
  {
   "cell_type": "code",
   "execution_count": null,
   "metadata": {},
   "outputs": [],
   "source": [
    "class NoiseSuppressor(tf.Module):\n",
    "    \n",
    "    def __init__(self,\n",
    "                output_size: int,\n",
    "                name: str = None):\n",
    "        super(NoiseSuppressor, self).__init__(name)\n",
    "        \n",
    "        self.dense_layer_1 = Dense(out_features=425)\n",
    "        self.lstm_layer_1 = LSTM(num_units=425, use_peepholes=True)\n",
    "        self.lstm_layer_2 = LSTM(num_units=425, use_peepholes=True)\n",
    "        self.dense_layer_2 = Dense(out_features=425)\n",
    "        self.dense_layer_3 = Dense(out_features=425)\n",
    "        self.dense_layer_4 = Dense(out_features=output_size)\n",
    "        \n",
    "    def __call__(self, x_in: tf.Tensor):\n",
    "        \n",
    "        dense_layer_1 = self.dense_layer_1(x_in=x_in)\n",
    "        dense_layer_1 = tf.nn.relu(dense_layer_1)\n",
    "        lstm_layer_1, _ = self.lstm_layer_1(x_in=dense_layer_1)\n",
    "        lstm_layer_2, _ = self.lstm_layer_2(x_in=lstm_layer_1)\n",
    "        dense_layer_2 = self.dense_layer_2(x_in=lstm_layer_2)\n",
    "        dense_layer_2 = tf.nn.relu(dense_layer_2)\n",
    "        dense_layer_3 = self.dense_layer_3(x_in=dense_layer_2)\n",
    "        dense_layer_3 = tf.nn.relu(dense_layer_3)\n",
    "        dense_layer_4 = self.dense_layer_4(x_in=dense_layer_3)\n",
    "        dense_layer_4 = tf.math.tanh(dense_layer_4)\n",
    "        \n",
    "        return dense_layer_4"
   ]
  },
  {
   "cell_type": "code",
   "execution_count": null,
   "metadata": {},
   "outputs": [],
   "source": [
    "noise_suppressor = NoiseSuppressor(output_size=2)"
   ]
  },
  {
   "cell_type": "code",
   "execution_count": null,
   "metadata": {},
   "outputs": [],
   "source": [
    "test = noise_suppressor(x_in=x)"
   ]
  },
  {
   "cell_type": "code",
   "execution_count": null,
   "metadata": {},
   "outputs": [],
   "source": [
    "test"
   ]
  }
 ],
 "metadata": {
  "kernelspec": {
   "display_name": "env-mlflow-examples",
   "language": "python",
   "name": "env-mlflow-examples"
  },
  "language_info": {
   "codemirror_mode": {
    "name": "ipython",
    "version": 3
   },
   "file_extension": ".py",
   "mimetype": "text/x-python",
   "name": "python",
   "nbconvert_exporter": "python",
   "pygments_lexer": "ipython3",
   "version": "3.9.1"
  }
 },
 "nbformat": 4,
 "nbformat_minor": 4
}

{
 "cells": [
  {
   "cell_type": "markdown",
   "metadata": {},
   "source": [
    "## Description"
   ]
  },
  {
   "cell_type": "markdown",
   "metadata": {},
   "source": [
    "##### Implementation of \"Deep Residual Learning for Image Recognition\" paper - https://ieeexplore.ieee.org/document/7780459\n",
    "\n",
    "##### Implementation of individual model layers"
   ]
  },
  {
   "cell_type": "markdown",
   "metadata": {},
   "source": [
    "### Libraries"
   ]
  },
  {
   "cell_type": "code",
   "execution_count": null,
   "metadata": {},
   "outputs": [],
   "source": [
    "import tensorflow as tf\n",
    "import numpy as np\n",
    "import typing"
   ]
  },
  {
   "cell_type": "markdown",
   "metadata": {},
   "source": [
    "### Input"
   ]
  },
  {
   "cell_type": "markdown",
   "metadata": {},
   "source": [
    "##### Let's assume we have an input image of [batch_size, image_width, image_height, features]"
   ]
  },
  {
   "cell_type": "code",
   "execution_count": null,
   "metadata": {},
   "outputs": [],
   "source": [
    "input_shape = (1, 500, 500, 3) # images of batch 100, size of 500x500 and rgb hene feaures of size 3\n",
    "x = tf.random.normal(input_shape)\n",
    "x = tf.constant(x, dtype=tf.float32)"
   ]
  },
  {
   "cell_type": "code",
   "execution_count": null,
   "metadata": {},
   "outputs": [],
   "source": [
    "x.shape"
   ]
  },
  {
   "cell_type": "markdown",
   "metadata": {},
   "source": [
    "### Layers"
   ]
  },
  {
   "cell_type": "markdown",
   "metadata": {},
   "source": [
    "##### Setup individual layers and test that they work"
   ]
  },
  {
   "cell_type": "markdown",
   "metadata": {},
   "source": [
    "#### Conv2D"
   ]
  },
  {
   "cell_type": "code",
   "execution_count": null,
   "metadata": {},
   "outputs": [],
   "source": [
    "class Conv2D(tf.Module):\n",
    "    \"\"\"\n",
    "        2D Convolution Layer\n",
    "    \"\"\"\n",
    "    \n",
    "    def __init__(self,\n",
    "                out_channels: int, # aka nr. filters\n",
    "                kernel: int, # the h*w of filter, can be a tuple but for now let's set it to a sqaure\n",
    "                stride: int, # the h_steps*w_steps of filter as it moves along input, set to a square for now\n",
    "                padding: str = \"SAME\",\n",
    "                use_bias: bool = True,\n",
    "                name = None\n",
    "                ):\n",
    "    \n",
    "        super(Conv2D, self).__init__(name)\n",
    "        \n",
    "        self.out_channels = out_channels\n",
    "        self.kernel: Tuple[int, int] = (kernel, kernel) # h*w of kernel\n",
    "        self.stride: Tuple[int, int] = (stride, stride) # h_step*w_step of kernel movement\n",
    "        self.padding = padding\n",
    "        self.use_bias = use_bias\n",
    "        \n",
    "        self.is_built: bool = False\n",
    "            \n",
    "        self.W: Optional[tf.Variable] = None\n",
    "        self.b: Optional[tf.Variable] = None\n",
    "            \n",
    "    \n",
    "    def __call__(self, x_in: tf.Tensor) -> tf.Tensor:\n",
    "        \"\"\"\n",
    "            Build tensor on the first call.\n",
    "            Calculate output by 2D convolution.\n",
    "            \n",
    "            :param x_in: input tensor of shape (batch_size, in_height, in_width, in_channels)\n",
    "            \n",
    "        \"\"\"\n",
    "        \n",
    "        if not self.is_built: # initialize weights\n",
    "            in_channels = x_in.shape[3]\n",
    "            filter_weights_shape = self.kernel + (in_channels, self.out_channels)\n",
    "            \n",
    "            self.W = tf.Variable(tf.initializers.GlorotUniform()(filter_weights_shape),\n",
    "                                 trainable = True,\n",
    "                                 dtype = tf.float32,\n",
    "                                 name = \"conv2d_filters\"\n",
    "                                )\n",
    "            \n",
    "            if self.use_bias:\n",
    "                self.b = tf.Variable(tf.initializers.GlorotUniform()((self.out_channels,)),\n",
    "                                     trainable = True,\n",
    "                                     dtype = tf.float32,\n",
    "                                     name = \"conv2d_bias\"\n",
    "                                    )\n",
    "                \n",
    "            self.is_built = True # first time weights and bias has been set, this will prevent it from being reset during backprop\n",
    "        \n",
    "        conv2d_layer = tf.nn.conv2d(input=x_in, filters=self.W, strides=self.stride, padding=self.padding)\n",
    "              \n",
    "        if self.use_bias:\n",
    "            return tf.add(\n",
    "                conv2d_layer,\n",
    "                self.b,\n",
    "                name = \"conv2d_add_bias\")\n",
    "        \n",
    "        else:\n",
    "            return conv2d_layer"
   ]
  },
  {
   "cell_type": "code",
   "execution_count": null,
   "metadata": {},
   "outputs": [],
   "source": [
    "conv2d_layer = Conv2D(out_channels=64, kernel=7, stride=2)"
   ]
  },
  {
   "cell_type": "code",
   "execution_count": null,
   "metadata": {},
   "outputs": [],
   "source": [
    "conv2d_layer_output = conv2d_layer(x)\n",
    "conv2d_layer_output.shape"
   ]
  },
  {
   "cell_type": "markdown",
   "metadata": {},
   "source": [
    "#### Dense"
   ]
  },
  {
   "cell_type": "code",
   "execution_count": null,
   "metadata": {},
   "outputs": [],
   "source": [
    "class Dense(tf.Module):\n",
    "    \n",
    "    def __init__(self, out_features, name=None):\n",
    "        super().__init__(name=name)\n",
    "        self.is_built = False # is built flag for dynamic input size inference\n",
    "        self.out_features = out_features\n",
    "        \n",
    "    def __call__(self, x_in):\n",
    "        if not self.is_built:\n",
    "            self.w = tf.Variable(\n",
    "                tf.random.normal([x.shape[-1], self.out_features]), name='w')\n",
    "            self.b = tf.Variable(tf.zeros([self.out_features]), name='b')\n",
    "            self.is_built = True\n",
    "        \n",
    "        x_hat = tf.matmul(x, self.w) + self.b\n",
    "        return x_hat"
   ]
  },
  {
   "cell_type": "code",
   "execution_count": null,
   "metadata": {},
   "outputs": [],
   "source": [
    "dense_layer = Dense(out_features=1)"
   ]
  },
  {
   "cell_type": "code",
   "execution_count": null,
   "metadata": {},
   "outputs": [],
   "source": [
    "dense_layer_output = dense_layer(x)\n",
    "dense_layer_output.shape"
   ]
  }
 ],
 "metadata": {
  "kernelspec": {
   "display_name": "env-mlflow-examples",
   "language": "python",
   "name": "env-mlflow-examples"
  },
  "language_info": {
   "codemirror_mode": {
    "name": "ipython",
    "version": 3
   },
   "file_extension": ".py",
   "mimetype": "text/x-python",
   "name": "python",
   "nbconvert_exporter": "python",
   "pygments_lexer": "ipython3",
   "version": "3.9.1"
  }
 },
 "nbformat": 4,
 "nbformat_minor": 4
}

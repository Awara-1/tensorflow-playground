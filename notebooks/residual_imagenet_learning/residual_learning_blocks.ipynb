{
 "cells": [
  {
   "cell_type": "markdown",
   "metadata": {},
   "source": [
    "## Description"
   ]
  },
  {
   "cell_type": "markdown",
   "metadata": {},
   "source": [
    "##### Implementation of \"Deep Residual Learning for Image Recognition\" paper - https://ieeexplore.ieee.org/document/7780459\n",
    "\n",
    "##### Implementation of residual block"
   ]
  },
  {
   "cell_type": "markdown",
   "metadata": {},
   "source": [
    "### Libraries"
   ]
  },
  {
   "cell_type": "code",
   "execution_count": null,
   "metadata": {},
   "outputs": [],
   "source": [
    "import tensorflow as tf\n",
    "import numpy as np\n",
    "import typing"
   ]
  },
  {
   "cell_type": "code",
   "execution_count": null,
   "metadata": {},
   "outputs": [],
   "source": [
    "from ipynb.fs.full.residual_learning_layers import *"
   ]
  },
  {
   "cell_type": "markdown",
   "metadata": {},
   "source": [
    "### Input"
   ]
  },
  {
   "cell_type": "markdown",
   "metadata": {},
   "source": [
    "##### Let's assume we have an input image of [batch_size, image_width, image_height, features]"
   ]
  },
  {
   "cell_type": "code",
   "execution_count": null,
   "metadata": {},
   "outputs": [],
   "source": [
    "input_shape = (1, 500, 500, 3) # images of batch 100, size of 500x500 and rgb hene feaures of size 3\n",
    "x = tf.random.normal(input_shape)\n",
    "x = tf.constant(x, dtype=tf.float32)"
   ]
  },
  {
   "cell_type": "code",
   "execution_count": null,
   "metadata": {},
   "outputs": [],
   "source": [
    "x.shape"
   ]
  },
  {
   "cell_type": "markdown",
   "metadata": {},
   "source": [
    "### Residual Block"
   ]
  },
  {
   "cell_type": "code",
   "execution_count": null,
   "metadata": {},
   "outputs": [],
   "source": [
    "class ResidualBlock(tf.Module):\n",
    "    \n",
    "    def __init__(self, \n",
    "                out_channels: int, # aka nr. filters\n",
    "                kernel: int, # the h*w of filter, can be a tuple but for now let's set it to a sqaure\n",
    "                stride_1: int, # the h_steps*w_steps of filter as it moves along input, set to a square for now\n",
    "                stride_2: int,\n",
    "                name = None):\n",
    "        super(ResidualBlock, self).__init__(name)\n",
    "        \n",
    "        self.conv2d_layer_1 = Conv2D(out_channels=out_channels,\n",
    "                                     kernel=kernel,\n",
    "                                     stride=stride_1)\n",
    "        self.conv2d_layer_2 = Conv2D(out_channels=out_channels,\n",
    "                                     kernel=kernel,\n",
    "                                     stride=stride_2)\n",
    "        self.batch_normalization = tf.keras.layers.BatchNormalization()\n",
    "        \n",
    "    def __call__(self, x_in: tf.Tensor):\n",
    "        \n",
    "        x = self.conv2d_layer_1(x_in)\n",
    "        x = self.batch_normalization(x)\n",
    "        x = tf.nn.leaky_relu(x)\n",
    "        x = self.conv2d_layer_2(x)\n",
    "        x = self.batch_normalization(x)\n",
    "        x = tf.nn.leaky_relu(x)\n",
    "        \n",
    "        if x.shape != x_in.shape: # input should be projected (using 1x1 conv2d layer with stride of 2) to match dimensions of F(x_in)\n",
    "            conv2d_proj_layer = Conv2D(out_channels=x.shape[-1], kernel=1, stride=2)\n",
    "            x_in = conv2d_proj_layer(x_in)\n",
    "    \n",
    "        x = tf.add(x, x_in) # for residual effect, add input to output for final output\n",
    "        \n",
    "        return x"
   ]
  },
  {
   "cell_type": "markdown",
   "metadata": {},
   "source": [
    "### Test Residual Block"
   ]
  },
  {
   "cell_type": "code",
   "execution_count": null,
   "metadata": {},
   "outputs": [],
   "source": [
    "# setup prior layers to first residual block\n",
    "conv2d_layer = Conv2D(out_channels=64, kernel=7, stride=2)\n",
    "x_1 = conv2d_layer(x)\n",
    "\n",
    "max_pool = tf.keras.layers.MaxPool2D(pool_size=2)\n",
    "x_2 = max_pool(x_1)"
   ]
  },
  {
   "cell_type": "code",
   "execution_count": null,
   "metadata": {},
   "outputs": [],
   "source": [
    "# test first residual block\n",
    "residual_block = ResidualBlock(out_channels=64, \n",
    "                               kernel=3, \n",
    "                               stride_1=1, \n",
    "                               stride_2=1)\n",
    "residual_block_output = residual_block(x_2)\n",
    "residual_block_output.shape"
   ]
  },
  {
   "cell_type": "code",
   "execution_count": null,
   "metadata": {},
   "outputs": [],
   "source": [
    "# test propagation of first residual block to second (testing dimensionality matching)\n",
    "residual_block = ResidualBlock(out_channels=128, \n",
    "                               kernel=3, \n",
    "                               stride_1=2, \n",
    "                               stride_2=1)\n",
    "residual_block_output_2 = residual_block(residual_block_output)\n",
    "residual_block_output_2.shape"
   ]
  },
  {
   "cell_type": "code",
   "execution_count": null,
   "metadata": {},
   "outputs": [],
   "source": []
  }
 ],
 "metadata": {
  "kernelspec": {
   "display_name": "env-mlflow-examples",
   "language": "python",
   "name": "env-mlflow-examples"
  },
  "language_info": {
   "codemirror_mode": {
    "name": "ipython",
    "version": 3
   },
   "file_extension": ".py",
   "mimetype": "text/x-python",
   "name": "python",
   "nbconvert_exporter": "python",
   "pygments_lexer": "ipython3",
   "version": "3.9.1"
  }
 },
 "nbformat": 4,
 "nbformat_minor": 4
}

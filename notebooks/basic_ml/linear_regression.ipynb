{
 "cells": [
  {
   "cell_type": "markdown",
   "metadata": {},
   "source": [
    "## Description"
   ]
  },
  {
   "cell_type": "markdown",
   "metadata": {},
   "source": [
    "##### Implement linear regression algorithm using TensorFlow Core"
   ]
  },
  {
   "cell_type": "markdown",
   "metadata": {},
   "source": [
    "## Libraries"
   ]
  },
  {
   "cell_type": "code",
   "execution_count": null,
   "metadata": {},
   "outputs": [],
   "source": [
    "import tensorflow as tf\n",
    "import numpy as np "
   ]
  },
  {
   "cell_type": "markdown",
   "metadata": {},
   "source": [
    "## Experiment with Tensorflow Basics"
   ]
  },
  {
   "cell_type": "code",
   "execution_count": null,
   "metadata": {},
   "outputs": [],
   "source": [
    "array = np.array([[1, 2, 4], [4, 5, 6]])"
   ]
  },
  {
   "cell_type": "code",
   "execution_count": null,
   "metadata": {},
   "outputs": [],
   "source": [
    "tf_array = tf.Variable(array).shape"
   ]
  },
  {
   "cell_type": "code",
   "execution_count": null,
   "metadata": {},
   "outputs": [],
   "source": [
    "tf.reduce_mean(array, 0)"
   ]
  },
  {
   "cell_type": "markdown",
   "metadata": {},
   "source": [
    "## Implement Linear Regression"
   ]
  },
  {
   "cell_type": "markdown",
   "metadata": {},
   "source": [
    "### Weight and bias"
   ]
  },
  {
   "cell_type": "code",
   "execution_count": null,
   "metadata": {},
   "outputs": [],
   "source": [
    "x = tf.constant(np.array([1, 2, 3, 4]), dtype=tf.float32)\n",
    "y = tf.constant(np.array([2, 4, 6, 8]), dtype=tf.float32)"
   ]
  },
  {
   "cell_type": "code",
   "execution_count": null,
   "metadata": {},
   "outputs": [],
   "source": [
    "# initialize weights and bias with random tensor values\n",
    "w = tf.Variable(np.random.randn(), dtype=\"float32\")\n",
    "b = tf.Variable(np.random.randn(), dtype=\"float32\")"
   ]
  },
  {
   "cell_type": "markdown",
   "metadata": {},
   "source": [
    "### Prediction Function"
   ]
  },
  {
   "cell_type": "code",
   "execution_count": null,
   "metadata": {},
   "outputs": [],
   "source": [
    "def pred(x, w, b):\n",
    "    \"\"\"\n",
    "    implement y = mx + c\n",
    "    \"\"\"\n",
    "    y_predict = w*x + b\n",
    "    return y_predict "
   ]
  },
  {
   "cell_type": "code",
   "execution_count": null,
   "metadata": {},
   "outputs": [],
   "source": [
    "y_predict = pred(np.array([1, 2, 3, 4]), w, b)\n",
    "y_predict"
   ]
  },
  {
   "cell_type": "markdown",
   "metadata": {},
   "source": [
    "### Loss Function "
   ]
  },
  {
   "cell_type": "code",
   "execution_count": null,
   "metadata": {},
   "outputs": [],
   "source": [
    "def loss(x, y, w, b):\n",
    "    \"\"\"\n",
    "    calculate mse loss\n",
    "    \"\"\"\n",
    "    y_predict = pred(x, w, b)\n",
    "    mse = tf.reduce_mean(tf.square(y_predict - y))\n",
    "    return mse"
   ]
  },
  {
   "cell_type": "markdown",
   "metadata": {},
   "source": [
    "### Gradients"
   ]
  },
  {
   "cell_type": "code",
   "execution_count": null,
   "metadata": {},
   "outputs": [],
   "source": [
    "def calculate_gradients(x, y, w, b):\n",
    "    \"\"\"\n",
    "    calculate gadients w.r.t w and b\n",
    "    \"\"\"\n",
    "    with tf.GradientTape() as tape:\n",
    "        _loss = loss(x, y, w, b)\n",
    "    \n",
    "    w_grad, b_grad = tape.gradient(_loss, [w, b])\n",
    "    return w_grad, b_grad"
   ]
  },
  {
   "cell_type": "markdown",
   "metadata": {},
   "source": [
    "### Loss minimization"
   ]
  },
  {
   "cell_type": "code",
   "execution_count": null,
   "metadata": {},
   "outputs": [],
   "source": [
    "@tf.function\n",
    "def minimize_loss (x, y, w, b, num_epochs, learning_rate):\n",
    "    \"\"\"\n",
    "    minimize loss thru gradient descent\n",
    "    \"\"\"\n",
    "    for epoch in tf.range(num_epochs):\n",
    "        w_grad, b_grad = calculate_gradients(x, y, w, b)\n",
    "        w_grad_desc, b_grad_desc = learning_rate*w_grad, learning_rate*b_grad\n",
    "        \n",
    "        w.assign_sub(w_grad_desc)\n",
    "        b.assign_sub(b_grad_desc)\n",
    "        loss_mse = loss(x, y, w, b)\n",
    "        \n",
    "        tf.print(\"EPOCH: \", epoch)\n",
    "        tf.print(\"MSE loss is: \", loss_mse)\n",
    "        \n",
    "    return w, b"
   ]
  },
  {
   "cell_type": "markdown",
   "metadata": {},
   "source": [
    "### Implementation"
   ]
  },
  {
   "cell_type": "code",
   "execution_count": null,
   "metadata": {},
   "outputs": [],
   "source": [
    "w, b = minimize_loss(x, y, w, b, num_epochs=100, learning_rate=0.001)"
   ]
  },
  {
   "cell_type": "code",
   "execution_count": null,
   "metadata": {},
   "outputs": [],
   "source": [
    "y_predicted = w*x + b\n",
    "y_predicted"
   ]
  }
 ],
 "metadata": {
  "kernelspec": {
   "display_name": "env-rr-denoising-tf2",
   "language": "python",
   "name": "env-rr-denoising-tf2"
  },
  "language_info": {
   "codemirror_mode": {
    "name": "ipython",
    "version": 3
   },
   "file_extension": ".py",
   "mimetype": "text/x-python",
   "name": "python",
   "nbconvert_exporter": "python",
   "pygments_lexer": "ipython3",
   "version": "3.7.8"
  }
 },
 "nbformat": 4,
 "nbformat_minor": 4
}

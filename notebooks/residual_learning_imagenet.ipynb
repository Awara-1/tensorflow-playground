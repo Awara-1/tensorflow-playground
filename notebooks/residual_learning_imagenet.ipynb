{
 "cells": [
  {
   "cell_type": "markdown",
   "metadata": {},
   "source": [
    "## Description"
   ]
  },
  {
   "cell_type": "markdown",
   "metadata": {},
   "source": [
    "##### Implementation of \"Deep Residual Learning for Image Recognition\" paper - https://ieeexplore.ieee.org/document/7780459"
   ]
  },
  {
   "cell_type": "markdown",
   "metadata": {},
   "source": [
    "### Libraries"
   ]
  },
  {
   "cell_type": "code",
   "execution_count": 1,
   "metadata": {},
   "outputs": [],
   "source": [
    "import tensorflow as tf\n",
    "import numpy as np\n",
    "import typing"
   ]
  },
  {
   "cell_type": "code",
   "execution_count": 2,
   "metadata": {},
   "outputs": [],
   "source": [
    "from ipynb.fs.full.residual_learning_blocks import ResidualBlock\n",
    "from ipynb.fs.full.residual_learning_layers import *"
   ]
  },
  {
   "cell_type": "markdown",
   "metadata": {},
   "source": [
    "### Input"
   ]
  },
  {
   "cell_type": "markdown",
   "metadata": {},
   "source": [
    "##### Let's assume we have an input image of [batch_size, image_width, image_height, features]"
   ]
  },
  {
   "cell_type": "code",
   "execution_count": 3,
   "metadata": {},
   "outputs": [],
   "source": [
    "input_shape = (1, 500, 500, 3) # images of batch 100, size of 500x500 and rgb hene feaures of size 3\n",
    "x = tf.random.normal(input_shape)\n",
    "x = tf.constant(x, dtype=tf.float32)"
   ]
  },
  {
   "cell_type": "code",
   "execution_count": 4,
   "metadata": {},
   "outputs": [
    {
     "data": {
      "text/plain": [
       "TensorShape([1, 500, 500, 3])"
      ]
     },
     "execution_count": 4,
     "metadata": {},
     "output_type": "execute_result"
    }
   ],
   "source": [
    "x.shape"
   ]
  },
  {
   "cell_type": "markdown",
   "metadata": {},
   "source": [
    "### ImageNet DNN"
   ]
  },
  {
   "cell_type": "code",
   "execution_count": 5,
   "metadata": {},
   "outputs": [],
   "source": [
    "class ResidualImageNet(tf.Module):\n",
    "    \n",
    "    def __init__(self,\n",
    "                num_classes,\n",
    "                name = None):\n",
    "        super(ResidualImageNet, self).__init__(name)\n",
    "        \n",
    "        self.conv2d_layer_1 = Conv2D(out_channels=64, kernel=7, stride=2, name=\"conv2d_layer_1\")\n",
    "        self.batch_normalization = tf.keras.layers.BatchNormalization()\n",
    "        self.max_pool_layer = tf.keras.layers.MaxPool2D(pool_size=2)\n",
    "         \n",
    "        self.residual_block_1 = ResidualBlock(out_channels=64, kernel=3, stride_1=1, stride_2=1, name=\"residual_block_1\")\n",
    "        self.residual_block_2 = ResidualBlock(out_channels=64, kernel=3, stride_1=1, stride_2=1, name=\"residual_block_2\")\n",
    "        self.residual_block_3 = ResidualBlock(out_channels=64, kernel=3, stride_1=1, stride_2=1, name=\"residual_block_3\")\n",
    "        \n",
    "        self.residual_block_4 = ResidualBlock(out_channels=128, kernel=3, stride_1=2, stride_2=1, name=\"residual_block_4\")\n",
    "        self.residual_block_5 = ResidualBlock(out_channels=128, kernel=3, stride_1=1, stride_2=1, name=\"residual_block_5\")\n",
    "        self.residual_block_6 = ResidualBlock(out_channels=128, kernel=3, stride_1=1, stride_2=1, name=\"residual_block_6\")\n",
    "        self.residual_block_7 = ResidualBlock(out_channels=128, kernel=3, stride_1=1, stride_2=1, name=\"residual_block_7\")\n",
    "        \n",
    "        self.residual_block_8 = ResidualBlock(out_channels=256, kernel=3, stride_1=2, stride_2=1, name=\"residual_block_8\")\n",
    "        self.residual_block_9 = ResidualBlock(out_channels=256, kernel=3, stride_1=1, stride_2=1, name=\"residual_block_9\")\n",
    "        self.residual_block_10 = ResidualBlock(out_channels=256, kernel=3, stride_1=1, stride_2=1, name=\"residual_block_10\")\n",
    "        self.residual_block_11 = ResidualBlock(out_channels=256, kernel=3, stride_1=1, stride_2=1, name=\"residual_block_11\")\n",
    "        self.residual_block_12 = ResidualBlock(out_channels=256, kernel=3, stride_1=1, stride_2=1, name=\"residual_block_12\")\n",
    "        self.residual_block_13 = ResidualBlock(out_channels=256, kernel=3, stride_1=1, stride_2=1, name=\"residual_block_13\")\n",
    "        \n",
    "        self.residual_block_14 = ResidualBlock(out_channels=512, kernel=3, stride_1=2, stride_2=1, name=\"residual_block_14\")\n",
    "        self.residual_block_15 = ResidualBlock(out_channels=512, kernel=3, stride_1=1, stride_2=1, name=\"residual_block_15\")\n",
    "        self.residual_block_16 = ResidualBlock(out_channels=512, kernel=3, stride_1=1, stride_2=1, name=\"residual_block_16\")\n",
    "        \n",
    "        self.avg_pool_layer = tf.keras.layers.AveragePooling2D(pool_size=(1, 1), strides=None, padding='same')\n",
    "        \n",
    "        self.flatten = tf.keras.layers.Flatten()\n",
    "        \n",
    "#         self.dense_output = Dense(out_features=num_classes)\n",
    "        self.dense_output = tf.keras.layers.Dense(num_classes)\n",
    "        \n",
    "    def __call__(self, x_in: tf.Tensor):\n",
    "        \n",
    "        # first layers\n",
    "        x = self.conv2d_layer_1(x_in)\n",
    "        x = self.batch_normalization(x)\n",
    "        x = tf.nn.leaky_relu(x)\n",
    "        x = self.max_pool_layer(x)\n",
    "        \n",
    "        # residual layers\n",
    "        x = self.residual_block_1(x)\n",
    "        x = self.residual_block_2(x)\n",
    "        x = self.residual_block_3(x)\n",
    "        x = self.residual_block_4(x)\n",
    "        x = self.residual_block_5(x)\n",
    "        x = self.residual_block_6(x)\n",
    "        x = self.residual_block_7(x)\n",
    "        x = self.residual_block_8(x)\n",
    "        x = self.residual_block_9(x)\n",
    "        x = self.residual_block_10(x)\n",
    "        x = self.residual_block_11(x)\n",
    "        x = self.residual_block_12(x)\n",
    "        x = self.residual_block_13(x)\n",
    "        x = self.residual_block_14(x)\n",
    "        x = self.residual_block_15(x)\n",
    "        x = self.residual_block_16(x)\n",
    "        \n",
    "        # output layers\n",
    "        x = self.avg_pool_layer(x)\n",
    "        x = self.flatten(x) # flatten before FNN\n",
    "        x = self.dense_output(x)\n",
    "        x = tf.nn.softmax(x)\n",
    "        \n",
    "        return x"
   ]
  },
  {
   "cell_type": "code",
   "execution_count": 6,
   "metadata": {},
   "outputs": [],
   "source": [
    "residual_image_net = ResidualImageNet(num_classes=1000)\n",
    "test_out = residual_image_net(x)"
   ]
  },
  {
   "cell_type": "code",
   "execution_count": 7,
   "metadata": {},
   "outputs": [
    {
     "data": {
      "text/plain": [
       "TensorShape([1, 1000])"
      ]
     },
     "execution_count": 7,
     "metadata": {},
     "output_type": "execute_result"
    }
   ],
   "source": [
    "test_out.shape"
   ]
  },
  {
   "cell_type": "code",
   "execution_count": null,
   "metadata": {},
   "outputs": [],
   "source": []
  }
 ],
 "metadata": {
  "kernelspec": {
   "display_name": "env-mlflow-examples",
   "language": "python",
   "name": "env-mlflow-examples"
  },
  "language_info": {
   "codemirror_mode": {
    "name": "ipython",
    "version": 3
   },
   "file_extension": ".py",
   "mimetype": "text/x-python",
   "name": "python",
   "nbconvert_exporter": "python",
   "pygments_lexer": "ipython3",
   "version": "3.9.1"
  }
 },
 "nbformat": 4,
 "nbformat_minor": 4
}

{
 "cells": [
  {
   "cell_type": "markdown",
   "metadata": {},
   "source": [
    "## Further Reading"
   ]
  },
  {
   "cell_type": "markdown",
   "metadata": {},
   "source": [
    "##### Further information on pooling layers and how they work: https://www.geeksforgeeks.org/cnn-introduction-to-pooling-layer/"
   ]
  },
  {
   "cell_type": "code",
   "execution_count": null,
   "metadata": {},
   "outputs": [],
   "source": [
    "import tensorflow as tf\n",
    "import numpy as np"
   ]
  },
  {
   "cell_type": "markdown",
   "metadata": {},
   "source": [
    "### Experimentation with tf.nn.conv2d"
   ]
  },
  {
   "cell_type": "markdown",
   "metadata": {},
   "source": [
    "##### Input tensor shape is (batch_size, in_height, in_width, in_channels), in_channels representing for e.g. RGB"
   ]
  },
  {
   "cell_type": "code",
   "execution_count": null,
   "metadata": {},
   "outputs": [],
   "source": [
    "x_in = np.array([[\n",
    "  [[2], [1], [2], [0], [1]],\n",
    "  [[1], [3], [2], [2], [3]],\n",
    "  [[1], [1], [3], [3], [0]],\n",
    "  [[2], [2], [0], [1], [1]],\n",
    "  [[0], [0], [3], [1], [2]],\n",
    "  [[0], [0], [3], [1], [2]],\n",
    "  [[0], [0], [3], [1], [2]]\n",
    "]])"
   ]
  },
  {
   "cell_type": "code",
   "execution_count": null,
   "metadata": {},
   "outputs": [],
   "source": [
    "x_in.shape"
   ]
  },
  {
   "cell_type": "code",
   "execution_count": null,
   "metadata": {},
   "outputs": [],
   "source": [
    "x_in.shape[3]"
   ]
  },
  {
   "cell_type": "markdown",
   "metadata": {},
   "source": [
    "##### Kernel/filter tensor is of input shape (filter_height, filter_width, in_channels, out_channels), out_channels represents how X many of these filters applied to the input (or neurons units)"
   ]
  },
  {
   "cell_type": "code",
   "execution_count": null,
   "metadata": {},
   "outputs": [],
   "source": [
    "kernel_in = np.random.randn(4, 4, 1, 2)\n",
    "kernel_in"
   ]
  },
  {
   "cell_type": "markdown",
   "metadata": {},
   "source": [
    "##### Output of applied convolution layer is of shape [batch, height, width, channels]"
   ]
  },
  {
   "cell_type": "code",
   "execution_count": null,
   "metadata": {},
   "outputs": [],
   "source": [
    "conv2d_layer = tf.nn.conv2d(input=x_in, filters=kernel_in, strides=1, padding='SAME')\n",
    "conv2d_layer = tf.cast(conv2d_layer, dtype=tf.float32)"
   ]
  },
  {
   "cell_type": "code",
   "execution_count": null,
   "metadata": {},
   "outputs": [],
   "source": [
    "conv2d_layer"
   ]
  },
  {
   "cell_type": "markdown",
   "metadata": {},
   "source": [
    "### Experimentation with tf.nn.avg_pool2d"
   ]
  },
  {
   "cell_type": "markdown",
   "metadata": {},
   "source": [
    "##### output from convolution layer will be input to avg_pool2d layer, note that the stride size effects the shape of the output layer e.g. stride 2 will half W and H compared to stride 1"
   ]
  },
  {
   "cell_type": "code",
   "execution_count": null,
   "metadata": {},
   "outputs": [],
   "source": [
    "ksize = [7, 5]\n",
    "strides = 2\n",
    "\n",
    "tf.nn.avg_pool2d(\n",
    "    input=conv2d_layer, \n",
    "    ksize=ksize, \n",
    "    strides=strides, \n",
    "    padding=\"SAME\", \n",
    "    data_format='NHWC', \n",
    "    name=\"test_avg_pool_2d_layer\"\n",
    ")"
   ]
  },
  {
   "cell_type": "markdown",
   "metadata": {},
   "source": [
    "##### NOTE: Exact same implementation method for tf.nn.max_pool2d that implements the max pooling method"
   ]
  },
  {
   "cell_type": "code",
   "execution_count": null,
   "metadata": {},
   "outputs": [],
   "source": [
    "tf.nn.max_pool2d(\n",
    "    input=conv2d_layer,\n",
    "    ksize=ksize,\n",
    "    strides=strides,\n",
    "    padding=\"SAME\",\n",
    "    name=\"test_max_pool_2d_layer\"\n",
    ")"
   ]
  },
  {
   "cell_type": "markdown",
   "metadata": {},
   "source": [
    "### Build Custom GlobalAveragePooling2D Layer Class"
   ]
  },
  {
   "cell_type": "markdown",
   "metadata": {},
   "source": [
    "#### Implement Class Layer"
   ]
  },
  {
   "cell_type": "code",
   "execution_count": null,
   "metadata": {},
   "outputs": [],
   "source": [
    "class GlobalAvgPooling2D(tf.Module):\n",
    "    \n",
    "    def __init__(self,\n",
    "                kernel: int,\n",
    "                stride: int,\n",
    "                name = None\n",
    "                ):\n",
    "        \n",
    "        super(GlobalAvgPooling2D, self).__init__(name)\n",
    "    \n",
    "        self.kernel: List[int, int] = [kernel, kernel]\n",
    "        self.strides: List[int, int] = [stride, stride]\n",
    "    \n",
    "    def __call__(self, x_in):\n",
    "        \n",
    "        return tf.nn.avg_pool2d(\n",
    "            input=x_in, \n",
    "            ksize=self.kernel, \n",
    "            strides=self.strides, \n",
    "            padding=\"SAME\", \n",
    "            data_format='NHWC', \n",
    "            name=\"test_avg_pool_2d_layer\"\n",
    "        )"
   ]
  },
  {
   "cell_type": "code",
   "execution_count": null,
   "metadata": {},
   "outputs": [],
   "source": [
    "global_avg_pooling_2d = GlobalAvgPooling2D(kernel=2, stride=1)"
   ]
  },
  {
   "cell_type": "code",
   "execution_count": null,
   "metadata": {},
   "outputs": [],
   "source": [
    "global_avg_pooling_2d(conv2d_layer)"
   ]
  }
 ],
 "metadata": {
  "kernelspec": {
   "display_name": "env-rr-denoising-tf2",
   "language": "python",
   "name": "env-rr-denoising-tf2"
  },
  "language_info": {
   "codemirror_mode": {
    "name": "ipython",
    "version": 3
   },
   "file_extension": ".py",
   "mimetype": "text/x-python",
   "name": "python",
   "nbconvert_exporter": "python",
   "pygments_lexer": "ipython3",
   "version": "3.7.8"
  }
 },
 "nbformat": 4,
 "nbformat_minor": 4
}

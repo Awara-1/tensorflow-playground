{
 "cells": [
  {
   "cell_type": "code",
   "execution_count": null,
   "metadata": {},
   "outputs": [],
   "source": [
    "import tensorflow as tf\n",
    "import numpy as np"
   ]
  },
  {
   "cell_type": "markdown",
   "metadata": {},
   "source": [
    "### Experimentation with tf.nn.conv2d"
   ]
  },
  {
   "cell_type": "markdown",
   "metadata": {},
   "source": [
    "##### Input tensor shape is (batch_size, in_height, in_width, in_channels), in_channels representing for e.g. RGB"
   ]
  },
  {
   "cell_type": "code",
   "execution_count": null,
   "metadata": {},
   "outputs": [],
   "source": [
    "x_in = np.array([[\n",
    "  [[2], [1], [2], [0], [1]],\n",
    "  [[1], [3], [2], [2], [3]],\n",
    "  [[1], [1], [3], [3], [0]],\n",
    "  [[2], [2], [0], [1], [1]],\n",
    "  [[0], [0], [3], [1], [2]],\n",
    "  [[0], [0], [3], [1], [2]],\n",
    "  [[0], [0], [3], [1], [2]]\n",
    "]])"
   ]
  },
  {
   "cell_type": "code",
   "execution_count": null,
   "metadata": {},
   "outputs": [],
   "source": [
    "x_in.shape"
   ]
  },
  {
   "cell_type": "code",
   "execution_count": null,
   "metadata": {},
   "outputs": [],
   "source": [
    "x_in.shape[3]"
   ]
  },
  {
   "cell_type": "markdown",
   "metadata": {},
   "source": [
    "##### Kernel/filter tensor is of input shape (filter_height, filter_width, in_channels, out_channels), out_channels represents how X many of these filters applied to the input (or neurons units)"
   ]
  },
  {
   "cell_type": "code",
   "execution_count": null,
   "metadata": {},
   "outputs": [],
   "source": [
    "kernel_in = np.array([\n",
    " [ [[2, 0.1, 0.9]], [[3, 0.2, 0.8]], [[4, 0.7, 0.6]] ],\n",
    " [ [[0, 0.3, 0.6]], [[1, 0.4, 0.8]], [[2, 0.2, 0.4]] ] ])"
   ]
  },
  {
   "cell_type": "code",
   "execution_count": null,
   "metadata": {},
   "outputs": [],
   "source": [
    "kernel_in"
   ]
  },
  {
   "cell_type": "code",
   "execution_count": null,
   "metadata": {},
   "outputs": [],
   "source": [
    "kernel_in.shape"
   ]
  },
  {
   "cell_type": "code",
   "execution_count": null,
   "metadata": {},
   "outputs": [],
   "source": [
    "kernel_in = np.array([\n",
    " [ [[2, 0.1]], [[3, 0.2]], [[4, 0.7]] ],\n",
    " [ [[0, 0.3]],[[1, 0.4]], [[2, 0.7]] ] ])"
   ]
  },
  {
   "cell_type": "code",
   "execution_count": null,
   "metadata": {},
   "outputs": [],
   "source": [
    "kernel_in.shape"
   ]
  },
  {
   "cell_type": "markdown",
   "metadata": {},
   "source": [
    "##### Output of applied convolution layer"
   ]
  },
  {
   "cell_type": "code",
   "execution_count": null,
   "metadata": {},
   "outputs": [],
   "source": [
    "conv2d_layer = tf.nn.conv2d(input=x_in, filters=kernel_in, strides=1, padding='SAME')"
   ]
  },
  {
   "cell_type": "code",
   "execution_count": null,
   "metadata": {},
   "outputs": [],
   "source": [
    "conv2d_layer"
   ]
  },
  {
   "cell_type": "markdown",
   "metadata": {},
   "source": [
    "#### Experiment with Keras layers for insight"
   ]
  },
  {
   "cell_type": "code",
   "execution_count": null,
   "metadata": {},
   "outputs": [],
   "source": [
    "model = tf.keras.models.Sequential([\n",
    "    # First convolution layer\n",
    "    tf.keras.layers.Conv2D(64, (2,3), activation='relu', input_shape=(300, 300, 3)),\n",
    "    tf.keras.layers.MaxPool2D(2,2),\n",
    "    # Second convolution layer\n",
    "    tf.keras.layers.Conv2D(32, (3,3), activation='relu'),\n",
    "    tf.keras.layers.MaxPool2D(2,2),\n",
    "    # The third convolution\n",
    "    tf.keras.layers.Conv2D(64, (3, 3), activation='relu'),\n",
    "    tf.keras.layers.MaxPooling2D(2, 2),\n",
    "    # The fourth convolution\n",
    "    tf.keras.layers.Conv2D(64, (3, 3), activation='relu'),\n",
    "    tf.keras.layers.MaxPooling2D(2, 2),\n",
    "    # The fifth convolution\n",
    "    tf.keras.layers.Conv2D(64, (3, 3), activation='relu'),\n",
    "    tf.keras.layers.MaxPooling2D(2, 2),\n",
    "    # Flatten layer to input into DNN\n",
    "    tf.keras.layers.Flatten(),\n",
    "    # 512 neuron hidden layer\n",
    "    tf.keras.layers.Dense(512, activation='relu'),\n",
    "    # Output binary neuron\n",
    "    tf.keras.layers.Dense(1, activation='sigmoid')\n",
    "])"
   ]
  },
  {
   "cell_type": "code",
   "execution_count": null,
   "metadata": {},
   "outputs": [],
   "source": [
    "model.summary()"
   ]
  },
  {
   "cell_type": "markdown",
   "metadata": {},
   "source": [
    "### Build Custom Conv2D Layer Class"
   ]
  },
  {
   "cell_type": "markdown",
   "metadata": {},
   "source": [
    "#### Experiment"
   ]
  },
  {
   "cell_type": "code",
   "execution_count": null,
   "metadata": {},
   "outputs": [],
   "source": [
    "kernel = (3, 3)\n",
    "in_channels = 1\n",
    "out_channels = 32 # nr of filters applied, equiv. to nr. of neurons"
   ]
  },
  {
   "cell_type": "code",
   "execution_count": null,
   "metadata": {},
   "outputs": [],
   "source": [
    "filter_weights_shape = kernel + (in_channels, out_channels)"
   ]
  },
  {
   "cell_type": "code",
   "execution_count": null,
   "metadata": {},
   "outputs": [],
   "source": [
    "filter_weights_shape"
   ]
  },
  {
   "cell_type": "code",
   "execution_count": null,
   "metadata": {},
   "outputs": [],
   "source": [
    "weights = tf.Variable(\n",
    "    tf.random.normal(filter_weights_shape, stddev=0.1),\n",
    "    trainable= True,\n",
    "    dtype=tf.float32,\n",
    "    name=\"conv2d_filters\"\n",
    "    )\n",
    "weights"
   ]
  },
  {
   "cell_type": "code",
   "execution_count": null,
   "metadata": {},
   "outputs": [],
   "source": [
    "x_in.shape"
   ]
  },
  {
   "cell_type": "code",
   "execution_count": null,
   "metadata": {},
   "outputs": [],
   "source": [
    "conv2d_layer = tf.nn.conv2d(input=x_in, filters=weights, strides=(1,1), padding=\"VALID\")"
   ]
  },
  {
   "cell_type": "markdown",
   "metadata": {},
   "source": [
    "#### Implement Class Layer"
   ]
  },
  {
   "cell_type": "code",
   "execution_count": null,
   "metadata": {},
   "outputs": [],
   "source": [
    "class Conv2D(tf.Module):\n",
    "    \"\"\"\n",
    "        2D Convolution Layer\n",
    "    \"\"\"\n",
    "    \n",
    "    def __init__(self,\n",
    "                out_channels: int, # aka nr. filters\n",
    "                kernel: int, # the h*w of filter, can be a tuple but for now let's set it to a sqaure\n",
    "                stride: int, # the h_steps*w_steps of filter as it moves along input, set to a square for now\n",
    "                use_bias: bool = True,\n",
    "                name = None\n",
    "                ):\n",
    "    \n",
    "        super(Conv2D, self).__init__(name)\n",
    "        \n",
    "        self.out_channels = out_channels\n",
    "        self.kernel: Tuple[int, int] = (kernel, kernel) # h*w of kernel\n",
    "        self.stride: Tuple[int, int] = (stride, stride) # h_step*w_step of kernel movement\n",
    "        self.use_bias = use_bias\n",
    "        \n",
    "        self.is_built: bool = False\n",
    "            \n",
    "        self.W: Optional[tf.Variable] = None\n",
    "        self.b: Optional[tf.Variable] = None\n",
    "            \n",
    "    \n",
    "    def __call__(self, x_in: tf.Tensor) -> tf.Tensor:\n",
    "        \"\"\"\n",
    "            Build tensor on the first call.\n",
    "            Calculate output by 2D convolution.\n",
    "            \n",
    "            :param x_in: input tensor of shape (batch_size, in_height, in_width, in_channels)\n",
    "            \n",
    "        \"\"\"\n",
    "        \n",
    "        if not self.is_built: # initialize weights\n",
    "            in_channels = x_in.shape[3]\n",
    "            filter_weights_shape = self.kernel + (in_channels, self.out_channels)\n",
    "            \n",
    "            self.W = tf.Variable(tf.initializers.GlorotUniform()(filter_weights_shape),\n",
    "                                 trainable = True,\n",
    "                                 dtype = tf.float32,\n",
    "                                 name = \"conv2d_filters\"\n",
    "                                )\n",
    "            print(f\"weights is: {self.W}\")\n",
    "            \n",
    "            if self.use_bias:\n",
    "                self.b = tf.Variable(tf.initializers.GlorotUniform()((self.out_channels,)),\n",
    "                                    trainable = True,\n",
    "                                     dtype = tf.float32,\n",
    "                                     name = \"conv2d_bias\"\n",
    "                                    )\n",
    "                print(f\"bias is: {self.b}\")\n",
    "                \n",
    "            self.is_built = True # first time weights and bias has been set, this will prevent it from being reset during backprop\n",
    "        \n",
    "        conv2d_layer = tf.nn.conv2d(input=x_in, filters=self.W, strides=self.stride, padding=\"VALID\")\n",
    "        print(f\"conv2d output is: {conv2d_layer}\")\n",
    "              \n",
    "        if self.use_bias:\n",
    "            return tf.add(\n",
    "                conv2d_layer,\n",
    "                self.b,\n",
    "                name = \"con2d_add_bias\")\n",
    "        \n",
    "        else:\n",
    "            return conv2d_layer"
   ]
  },
  {
   "cell_type": "code",
   "execution_count": null,
   "metadata": {},
   "outputs": [],
   "source": [
    "conv2d_layer = Conv2D(out_channels=3, kernel=2, stride=1)"
   ]
  },
  {
   "cell_type": "code",
   "execution_count": null,
   "metadata": {},
   "outputs": [],
   "source": [
    "conv2d_layer.__call__(x_in=x_in)"
   ]
  }
 ],
 "metadata": {
  "kernelspec": {
   "display_name": "env-rr-denoising-tf2",
   "language": "python",
   "name": "env-rr-denoising-tf2"
  },
  "language_info": {
   "codemirror_mode": {
    "name": "ipython",
    "version": 3
   },
   "file_extension": ".py",
   "mimetype": "text/x-python",
   "name": "python",
   "nbconvert_exporter": "python",
   "pygments_lexer": "ipython3",
   "version": "3.7.8"
  }
 },
 "nbformat": 4,
 "nbformat_minor": 4
}

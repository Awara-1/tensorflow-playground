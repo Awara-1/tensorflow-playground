{
 "cells": [
  {
   "cell_type": "code",
   "execution_count": null,
   "metadata": {},
   "outputs": [],
   "source": [
    "import tensorflow as tf\n",
    "import numpy as np"
   ]
  },
  {
   "cell_type": "markdown",
   "metadata": {},
   "source": [
    "### Experimentation with tf.nn.conv1d"
   ]
  },
  {
   "cell_type": "markdown",
   "metadata": {},
   "source": [
    "##### input has -> batch_shape + [in_width, in_channels] if data_format is \"NWC\", or batch_shape + [in_channels, in_width] if data_format is \"NCW\""
   ]
  },
  {
   "cell_type": "code",
   "execution_count": null,
   "metadata": {},
   "outputs": [],
   "source": [
    "batch_size = 1\n",
    "in_width = 1024 # e.g. the sequence length\n",
    "in_channels = 1 # for 1d, in_channels represents the nr of features \n",
    "\n",
    "x_in_shape = (batch_size, in_width, in_channels)"
   ]
  },
  {
   "cell_type": "code",
   "execution_count": null,
   "metadata": {},
   "outputs": [],
   "source": [
    "x_in = tf.constant(tf.random.normal(x_in_shape, stddev=0.1), name=\"input\")"
   ]
  },
  {
   "cell_type": "code",
   "execution_count": null,
   "metadata": {},
   "outputs": [],
   "source": [
    "x_in"
   ]
  },
  {
   "cell_type": "code",
   "execution_count": null,
   "metadata": {},
   "outputs": [],
   "source": [
    "x_in.shape"
   ]
  },
  {
   "cell_type": "code",
   "execution_count": null,
   "metadata": {},
   "outputs": [],
   "source": [
    "x_in.shape[2]"
   ]
  },
  {
   "cell_type": "markdown",
   "metadata": {},
   "source": [
    "##### filter/kernel tensor of shape [filter_width, in_channels, out_channels]"
   ]
  },
  {
   "cell_type": "code",
   "execution_count": null,
   "metadata": {},
   "outputs": [],
   "source": [
    "kernel_width = 3\n",
    "out_channels = 12 # nr kernel/filter to apply, equiv to nr of neurons in network\n",
    "\n",
    "filter_weights_shape = (kernel_width, in_channels, out_channels)\n",
    "filter_weights_shape"
   ]
  },
  {
   "cell_type": "code",
   "execution_count": null,
   "metadata": {},
   "outputs": [],
   "source": [
    "filter_weights = tf.Variable(tf.random.normal(filter_weights_shape))"
   ]
  },
  {
   "cell_type": "code",
   "execution_count": null,
   "metadata": {},
   "outputs": [],
   "source": [
    "filter_weights"
   ]
  },
  {
   "cell_type": "markdown",
   "metadata": {},
   "source": [
    "##### Output of applied convolution layer"
   ]
  },
  {
   "cell_type": "code",
   "execution_count": null,
   "metadata": {},
   "outputs": [],
   "source": [
    "conv1d_layer = tf.nn.conv1d(input=x_in, filters=filter_weights, stride=4, padding='SAME')"
   ]
  },
  {
   "cell_type": "code",
   "execution_count": null,
   "metadata": {},
   "outputs": [],
   "source": [
    "conv1d_layer"
   ]
  },
  {
   "cell_type": "markdown",
   "metadata": {},
   "source": [
    "### Build Custom Conv1D Layer Class"
   ]
  },
  {
   "cell_type": "code",
   "execution_count": null,
   "metadata": {},
   "outputs": [],
   "source": [
    "class Conv1D(tf.Module):\n",
    "    \n",
    "    def __init__(self,\n",
    "               nr_filters: int,\n",
    "               kernel: int,\n",
    "               stride: int,\n",
    "               use_bias: bool,\n",
    "               name = None\n",
    "              ):\n",
    "        \n",
    "        super(Conv1D, self).__init__(name)\n",
    "        \n",
    "        self.nr_filters = nr_filters\n",
    "        self.kernel = kernel\n",
    "        self.stride = stride\n",
    "        self.use_bias = use_bias\n",
    "        \n",
    "        self.is_built: bool = False\n",
    "        \n",
    "        self.W: tf.Tensor = None \n",
    "        self.b: tf.Tensor = None\n",
    "            \n",
    "    def __call__(self, x_in):\n",
    "        \n",
    "        if not self.is_built:\n",
    "            in_channels = x_in.shape[-1]\n",
    "            print(f\"in_channels are: {in_channels}\")\n",
    "            filter_weights_shape = (self.kernel, in_channels, self.nr_filters)\n",
    "            print(f\"filter_weights_shape is: {filter_weights_shape}\")\n",
    "            \n",
    "            self.W = tf.Variable(tf.random.normal(filter_weights_shape, stddev=0.1),\n",
    "                                trainable=True,\n",
    "                                dtype = tf.float32,\n",
    "                                name = \"conv1d_filters\")\n",
    "            if self.use_bias:\n",
    "                self.b = tf.Variable(tf.random.normal([self.nr_filters]))\n",
    "            \n",
    "            print(f\"filters weights are: {self.W}\")\n",
    "            print(f\"bias weights are: {self.b}\")\n",
    "            self.is_built = True\n",
    "            \n",
    "        if self.use_bias:\n",
    "            return tf.add(\n",
    "                tf.nn.conv1d(\n",
    "                input=x_in,\n",
    "                filters=self.W,\n",
    "                stride=self.stride,\n",
    "                padding=\"SAME\"\n",
    "                ),\n",
    "                self.b,\n",
    "                name=\"conv1d_layer_with_bias\"\n",
    "            )\n",
    "        else:\n",
    "            return tf.nn.conv1d(\n",
    "                input=x_in,\n",
    "                filters=self.W,\n",
    "                stride=self.stride,\n",
    "                padding=\"SAME\"\n",
    "                )"
   ]
  },
  {
   "cell_type": "code",
   "execution_count": null,
   "metadata": {},
   "outputs": [],
   "source": [
    "conv1d = Conv1D(nr_filters=12,\n",
    "               kernel=2,\n",
    "               stride=1,\n",
    "               use_bias=False)"
   ]
  },
  {
   "cell_type": "code",
   "execution_count": null,
   "metadata": {},
   "outputs": [],
   "source": [
    "conv1d(x_in=x_in)"
   ]
  }
 ],
 "metadata": {
  "kernelspec": {
   "display_name": "env-rr-denoising-tf2",
   "language": "python",
   "name": "env-rr-denoising-tf2"
  },
  "language_info": {
   "codemirror_mode": {
    "name": "ipython",
    "version": 3
   },
   "file_extension": ".py",
   "mimetype": "text/x-python",
   "name": "python",
   "nbconvert_exporter": "python",
   "pygments_lexer": "ipython3",
   "version": "3.7.8"
  }
 },
 "nbformat": 4,
 "nbformat_minor": 4
}

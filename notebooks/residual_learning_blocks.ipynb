{
 "cells": [
  {
   "cell_type": "markdown",
   "metadata": {},
   "source": [
    "## Description"
   ]
  },
  {
   "cell_type": "markdown",
   "metadata": {},
   "source": [
    "##### Implementation of \"Deep Residual Learning for Image Recognition\" paper - https://ieeexplore.ieee.org/document/7780459"
   ]
  },
  {
   "cell_type": "code",
   "execution_count": null,
   "metadata": {},
   "outputs": [],
   "source": []
  },
  {
   "cell_type": "markdown",
   "metadata": {},
   "source": [
    "### Libraries"
   ]
  },
  {
   "cell_type": "code",
   "execution_count": 1,
   "metadata": {},
   "outputs": [],
   "source": [
    "import tensorflow as tf\n",
    "import numpy as np\n",
    "import typing"
   ]
  },
  {
   "cell_type": "code",
   "execution_count": 2,
   "metadata": {},
   "outputs": [],
   "source": [
    "from ipynb.fs.full.residual_learning_layers import *"
   ]
  },
  {
   "cell_type": "markdown",
   "metadata": {},
   "source": [
    "### Input"
   ]
  },
  {
   "cell_type": "markdown",
   "metadata": {},
   "source": [
    "##### Let's assume we have an input image of [batch_size, image_width, image_height, features]"
   ]
  },
  {
   "cell_type": "code",
   "execution_count": 3,
   "metadata": {},
   "outputs": [],
   "source": [
    "input_shape = (1, 500, 500, 3) # images of batch 100, size of 500x500 and rgb hene feaures of size 3\n",
    "x = tf.random.normal(input_shape)\n",
    "x = tf.constant(x, dtype=tf.float32)"
   ]
  },
  {
   "cell_type": "code",
   "execution_count": 4,
   "metadata": {},
   "outputs": [
    {
     "data": {
      "text/plain": [
       "<tf.Tensor: shape=(1, 500, 500, 3), dtype=float32, numpy=\n",
       "array([[[[-5.86231768e-01,  1.60114622e+00,  3.02300751e-01],\n",
       "         [-8.86706829e-01, -1.73417282e+00, -1.13709009e+00],\n",
       "         [-1.43502343e+00,  1.25142813e+00,  1.09249723e+00],\n",
       "         ...,\n",
       "         [ 7.21697450e-01, -5.98199189e-01, -5.71431369e-02],\n",
       "         [-4.05235738e-01, -8.72637689e-01, -1.52320933e+00],\n",
       "         [-1.02649629e+00, -1.93687975e-01, -1.95227587e+00]],\n",
       "\n",
       "        [[ 7.42623687e-01, -1.24532831e+00,  1.24146223e-01],\n",
       "         [ 8.00725341e-01,  4.93192345e-01,  8.54823530e-01],\n",
       "         [ 6.10289395e-01, -1.27179694e+00, -1.79805785e-01],\n",
       "         ...,\n",
       "         [-1.38284490e-01,  5.69418728e-01, -9.31997538e-01],\n",
       "         [ 9.48348939e-01,  8.24724913e-01,  2.15256882e+00],\n",
       "         [-9.56536055e-01,  1.31456763e-01,  1.01385765e-01]],\n",
       "\n",
       "        [[-5.32221198e-01, -1.22341490e+00, -9.49513435e-01],\n",
       "         [-1.23176491e+00,  7.33573139e-01, -2.02876449e+00],\n",
       "         [-1.84546041e+00, -2.58735418e+00,  4.19316381e-01],\n",
       "         ...,\n",
       "         [-5.12517273e-01, -4.99168098e-01,  8.01035583e-01],\n",
       "         [ 1.06547523e+00,  7.42314577e-01,  7.49368966e-01],\n",
       "         [-9.12161171e-01, -3.51460487e-01,  8.10272753e-01]],\n",
       "\n",
       "        ...,\n",
       "\n",
       "        [[ 6.15559340e-01,  2.25232974e-01,  1.13619781e+00],\n",
       "         [ 1.08993566e+00, -1.36235023e+00,  1.09072705e-03],\n",
       "         [ 1.31955683e+00, -8.99355888e-01,  7.49754786e-01],\n",
       "         ...,\n",
       "         [-1.46412241e+00,  2.52143741e+00, -3.00940126e-01],\n",
       "         [ 8.43225718e-01,  1.00297138e-01,  1.31277770e-01],\n",
       "         [ 2.65531480e-01,  4.26824480e-01,  2.82492161e-01]],\n",
       "\n",
       "        [[ 4.87413630e-02,  2.12831712e+00, -8.40850234e-01],\n",
       "         [ 1.18736602e-01,  1.21811785e-01, -3.66991878e-01],\n",
       "         [ 8.45472515e-02, -3.52776721e-02, -1.00421619e+00],\n",
       "         ...,\n",
       "         [-2.81658173e-01, -1.22477055e+00,  1.79681015e+00],\n",
       "         [ 1.75218970e-01,  3.36302072e-02, -1.48694551e+00],\n",
       "         [ 5.65081120e-01, -7.59912372e-01, -1.60799241e+00]],\n",
       "\n",
       "        [[-4.26801652e-01,  9.66142476e-01,  2.05082059e+00],\n",
       "         [ 2.53373384e-01, -9.56956893e-02,  9.52049196e-02],\n",
       "         [-1.76095635e-01,  1.28031760e-01,  3.86014879e-02],\n",
       "         ...,\n",
       "         [-6.38084888e-01,  9.52026904e-01, -2.02438974e+00],\n",
       "         [-1.45463133e-02, -1.32685363e+00, -1.13652837e+00],\n",
       "         [-3.63125086e-01,  1.04168546e+00,  9.33318436e-01]]]],\n",
       "      dtype=float32)>"
      ]
     },
     "execution_count": 4,
     "metadata": {},
     "output_type": "execute_result"
    }
   ],
   "source": [
    "x.shape"
   ]
  },
  {
   "cell_type": "markdown",
   "metadata": {},
   "source": [
    "### Residual Block"
   ]
  },
  {
   "cell_type": "code",
   "execution_count": 5,
   "metadata": {},
   "outputs": [],
   "source": [
    "class ResidualBlock(tf.Module):\n",
    "    \n",
    "    def __init__(self, \n",
    "                out_channels: int, # aka nr. filters\n",
    "                kernel: int, # the h*w of filter, can be a tuple but for now let's set it to a sqaure\n",
    "                stride_1: int, # the h_steps*w_steps of filter as it moves along input, set to a square for now\n",
    "                stride_2: int,\n",
    "                name = None):\n",
    "        super(ResidualBlock, self).__init__(name)\n",
    "        \n",
    "        self.conv2d_layer_1 = Conv2D(out_channels=out_channels,\n",
    "                                     kernel=kernel,\n",
    "                                     stride=stride_1)\n",
    "        self.conv2d_layer_2 = Conv2D(out_channels=out_channels,\n",
    "                                     kernel=kernel,\n",
    "                                     stride=stride_2)\n",
    "        self.batch_normalization = tf.keras.layers.BatchNormalization()\n",
    "        \n",
    "    def __call__(self, x_in: tf.Tensor):\n",
    "        \n",
    "        x = self.conv2d_layer_1(x_in)\n",
    "        x = self.batch_normalization(x)\n",
    "        x = tf.nn.leaky_relu(x)\n",
    "        x = self.conv2d_layer_2(x)\n",
    "        x = self.batch_normalization(x)\n",
    "        x = tf.nn.leaky_relu(x)\n",
    "        \n",
    "        if x.shape != x_in.shape: # input should be projected (using 1x1 conv2d layer with stride of 2) to match dimensions of F(x_in)\n",
    "            conv2d_proj_layer = Conv2D(out_channels=x.shape[-1], kernel=1, stride=2)\n",
    "            x_in = conv2d_proj_layer(x_in)\n",
    "    \n",
    "        x = tf.add(x, x_in) # for residual effect, add input to output for final output\n",
    "        \n",
    "        return x"
   ]
  },
  {
   "cell_type": "markdown",
   "metadata": {},
   "source": [
    "### Test Residual Block"
   ]
  },
  {
   "cell_type": "code",
   "execution_count": 6,
   "metadata": {},
   "outputs": [],
   "source": [
    "# setup prior layers to first residual block\n",
    "conv2d_layer = Conv2D(out_channels=64, kernel=7, stride=2)\n",
    "x_1 = conv2d_layer(x)\n",
    "\n",
    "max_pool = tf.keras.layers.MaxPool2D(pool_size=2)\n",
    "x_2 = max_pool(x_1)"
   ]
  },
  {
   "cell_type": "code",
   "execution_count": 7,
   "metadata": {},
   "outputs": [
    {
     "data": {
      "text/plain": [
       "TensorShape([1, 125, 125, 64])"
      ]
     },
     "execution_count": 7,
     "metadata": {},
     "output_type": "execute_result"
    }
   ],
   "source": [
    "# test first residual block\n",
    "residual_block = ResidualBlock(out_channels=64, \n",
    "                               kernel=3, \n",
    "                               stride_1=1, \n",
    "                               stride_2=1)\n",
    "residual_block_output = residual_block(x_2)\n",
    "residual_block_output.shape"
   ]
  },
  {
   "cell_type": "code",
   "execution_count": 10,
   "metadata": {},
   "outputs": [
    {
     "data": {
      "text/plain": [
       "TensorShape([1, 63, 63, 128])"
      ]
     },
     "execution_count": 10,
     "metadata": {},
     "output_type": "execute_result"
    }
   ],
   "source": [
    "# test propagation of first residual block to second (testing dimensionality matching)\n",
    "residual_block = ResidualBlock(out_channels=128, \n",
    "                               kernel=3, \n",
    "                               stride_1=2, \n",
    "                               stride_2=1)\n",
    "residual_block_output_2 = residual_block(residual_block_output)\n",
    "residual_block_output_2.shape"
   ]
  },
  {
   "cell_type": "code",
   "execution_count": null,
   "metadata": {},
   "outputs": [],
   "source": []
  }
 ],
 "metadata": {
  "kernelspec": {
   "display_name": "env-mlflow-examples",
   "language": "python",
   "name": "env-mlflow-examples"
  },
  "language_info": {
   "codemirror_mode": {
    "name": "ipython",
    "version": 3
   },
   "file_extension": ".py",
   "mimetype": "text/x-python",
   "name": "python",
   "nbconvert_exporter": "python",
   "pygments_lexer": "ipython3",
   "version": "3.9.1"
  }
 },
 "nbformat": 4,
 "nbformat_minor": 4
}
